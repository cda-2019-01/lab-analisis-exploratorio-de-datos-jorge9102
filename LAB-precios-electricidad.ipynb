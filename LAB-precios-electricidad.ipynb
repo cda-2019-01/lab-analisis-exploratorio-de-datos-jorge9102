{
 "cells": [
  {
   "cell_type": "markdown",
   "metadata": {},
   "source": [
    "Evolución de los Precios de la Electricidad\n",
    "==="
   ]
  },
  {
   "cell_type": "markdown",
   "metadata": {},
   "source": [
    "# Instrucciones"
   ]
  },
  {
   "cell_type": "markdown",
   "metadata": {},
   "source": [
    "En el archivo `precios.zip`  se encuentran los archivos `Precio_Bolsa_Nacional_($kwh)_ano.xls` en formato de Microsoft Excel, los cuales contienen los precios históricos horarios de la electricidad para el mercado eléctrico Colombiano entre los años 1995 y 2017 en COL-PESOS/kWh. A partir de la información suministrada realice las siguientes actividades. "
   ]
  },
  {
   "cell_type": "markdown",
   "metadata": {},
   "source": [
    "**1.--** Lea los archivos y cree una tabla única concatenando la información para cada uno de los años. Debe transformar la tabla de tal forma que quede con las columnas `Fecha`, `Hora` y `Precio` (únicamente tres columnas)."
   ]
  },
  {
   "cell_type": "markdown",
   "metadata": {},
   "source": [
    "**2.--** Compute e imprima el número de registros con datos faltantes."
   ]
  },
  {
   "cell_type": "markdown",
   "metadata": {},
   "source": [
    "**3.--** Compute e imprima el número de registros duplicados."
   ]
  },
  {
   "cell_type": "markdown",
   "metadata": {},
   "source": [
    "**4.--** Elimine los registros con datos duplicados o datos faltantes, e imprima la cantidad de registros que quedan (registros completos)."
   ]
  },
  {
   "cell_type": "markdown",
   "metadata": {},
   "source": [
    "**5.--** Compute y grafique el precio primedio diario."
   ]
  },
  {
   "cell_type": "markdown",
   "metadata": {},
   "source": [
    "**6.--** Compute y grafique el precio máximo por mes."
   ]
  },
  {
   "cell_type": "markdown",
   "metadata": {},
   "source": [
    "**7.--** Compute y grafique el precio mínimo mensual."
   ]
  },
  {
   "cell_type": "markdown",
   "metadata": {},
   "source": [
    "**8.--** Haga un gráfico para comparar el precio máximo del mes (para cada mes) y el precio promedio mensual."
   ]
  },
  {
   "cell_type": "markdown",
   "metadata": {},
   "source": [
    "**9.--** Haga un histograma que muestre a que horas se produce el máximo precio diario para los días laborales."
   ]
  },
  {
   "cell_type": "markdown",
   "metadata": {},
   "source": [
    "**10.--** Haga un histograma que muestre a que horas se produce el máximo precio diario para los días sabado."
   ]
  },
  {
   "cell_type": "markdown",
   "metadata": {},
   "source": [
    "**11.--** Haga un histograma que muestre a que horas se produce el máximo precio diario para los días domingo."
   ]
  },
  {
   "cell_type": "markdown",
   "metadata": {},
   "source": [
    "**12.--** Imprima una tabla con la fecha y el valor más bajo por año del precio de bolsa."
   ]
  },
  {
   "cell_type": "markdown",
   "metadata": {},
   "source": [
    "**13.--** Haga una gráfica en que se muestre el precio promedio diario y el precio promedio mensual."
   ]
  },
  {
   "cell_type": "markdown",
   "metadata": {},
   "source": [
    "---"
   ]
  },
  {
   "cell_type": "markdown",
   "metadata": {},
   "source": [
    "# 1)"
   ]
  },
  {
   "cell_type": "code",
   "execution_count": 1,
   "metadata": {},
   "outputs": [],
   "source": [
    "import pandas as pd\n",
    "import numpy as np\n",
    "import os\n",
    "import matplotlib.pyplot as plt\n",
    "import math\n",
    "from datetime import datetime"
   ]
  },
  {
   "cell_type": "code",
   "execution_count": 2,
   "metadata": {},
   "outputs": [],
   "source": [
    "def leer_precios(filename):          \n",
    "    for k in range(10):\n",
    "        df = pd.read_excel(filename,\n",
    "                           skiprows = k,\n",
    "                           usecols = list(range(25)))\n",
    "        if df.iloc[0,0] == 'Fecha':\n",
    "            df = pd.read_excel(filename,\n",
    "                               skiprows = k+1,\n",
    "                               usecols = list(range(25)))    \n",
    "            break\n",
    "        \n",
    "    return(df)"
   ]
  },
  {
   "cell_type": "code",
   "execution_count": 4,
   "metadata": {},
   "outputs": [],
   "source": [
    "filenames = !ls precios/\n",
    "dfs = []\n",
    "for filename in filenames:\n",
    "    dfs.append(leer_precios(\"precios/\"+filename))"
   ]
  },
  {
   "cell_type": "code",
   "execution_count": 5,
   "metadata": {},
   "outputs": [],
   "source": [
    "dfs=pd.concat(dfs)"
   ]
  },
  {
   "cell_type": "code",
   "execution_count": 6,
   "metadata": {},
   "outputs": [],
   "source": [
    "dfsFinal=pd.melt(dfs,id_vars=['Fecha'])"
   ]
  },
  {
   "cell_type": "code",
   "execution_count": 7,
   "metadata": {},
   "outputs": [],
   "source": [
    "dfsFinal.rename(columns={'variable':'Hora'},inplace=True)\n",
    "dfsFinal.rename(columns={'value':'Precio'},inplace=True)"
   ]
  },
  {
   "cell_type": "code",
   "execution_count": 8,
   "metadata": {},
   "outputs": [
    {
     "data": {
      "text/html": [
       "<div>\n",
       "<style scoped>\n",
       "    .dataframe tbody tr th:only-of-type {\n",
       "        vertical-align: middle;\n",
       "    }\n",
       "\n",
       "    .dataframe tbody tr th {\n",
       "        vertical-align: top;\n",
       "    }\n",
       "\n",
       "    .dataframe thead th {\n",
       "        text-align: right;\n",
       "    }\n",
       "</style>\n",
       "<table border=\"1\" class=\"dataframe\">\n",
       "  <thead>\n",
       "    <tr style=\"text-align: right;\">\n",
       "      <th></th>\n",
       "      <th>Fecha</th>\n",
       "      <th>Hora</th>\n",
       "      <th>Precio</th>\n",
       "    </tr>\n",
       "  </thead>\n",
       "  <tbody>\n",
       "    <tr>\n",
       "      <th>0</th>\n",
       "      <td>1995-07-20</td>\n",
       "      <td>0</td>\n",
       "      <td>NaN</td>\n",
       "    </tr>\n",
       "    <tr>\n",
       "      <th>1</th>\n",
       "      <td>1995-07-21</td>\n",
       "      <td>0</td>\n",
       "      <td>1.073000</td>\n",
       "    </tr>\n",
       "    <tr>\n",
       "      <th>2</th>\n",
       "      <td>1995-07-22</td>\n",
       "      <td>0</td>\n",
       "      <td>1.073000</td>\n",
       "    </tr>\n",
       "    <tr>\n",
       "      <th>3</th>\n",
       "      <td>1995-07-23</td>\n",
       "      <td>0</td>\n",
       "      <td>1.073000</td>\n",
       "    </tr>\n",
       "    <tr>\n",
       "      <th>4</th>\n",
       "      <td>1995-07-24</td>\n",
       "      <td>0</td>\n",
       "      <td>1.000000</td>\n",
       "    </tr>\n",
       "    <tr>\n",
       "      <th>5</th>\n",
       "      <td>1995-07-25</td>\n",
       "      <td>0</td>\n",
       "      <td>0.990000</td>\n",
       "    </tr>\n",
       "    <tr>\n",
       "      <th>6</th>\n",
       "      <td>1995-07-26</td>\n",
       "      <td>0</td>\n",
       "      <td>0.500000</td>\n",
       "    </tr>\n",
       "    <tr>\n",
       "      <th>7</th>\n",
       "      <td>1995-07-27</td>\n",
       "      <td>0</td>\n",
       "      <td>0.500000</td>\n",
       "    </tr>\n",
       "    <tr>\n",
       "      <th>8</th>\n",
       "      <td>1995-07-28</td>\n",
       "      <td>0</td>\n",
       "      <td>0.000000</td>\n",
       "    </tr>\n",
       "    <tr>\n",
       "      <th>9</th>\n",
       "      <td>1995-07-29</td>\n",
       "      <td>0</td>\n",
       "      <td>1.000000</td>\n",
       "    </tr>\n",
       "    <tr>\n",
       "      <th>10</th>\n",
       "      <td>1995-07-30</td>\n",
       "      <td>0</td>\n",
       "      <td>1.072000</td>\n",
       "    </tr>\n",
       "    <tr>\n",
       "      <th>11</th>\n",
       "      <td>1995-07-31</td>\n",
       "      <td>0</td>\n",
       "      <td>0.000000</td>\n",
       "    </tr>\n",
       "    <tr>\n",
       "      <th>12</th>\n",
       "      <td>1995-08-01</td>\n",
       "      <td>0</td>\n",
       "      <td>0.000000</td>\n",
       "    </tr>\n",
       "    <tr>\n",
       "      <th>13</th>\n",
       "      <td>1995-08-02</td>\n",
       "      <td>0</td>\n",
       "      <td>1.073000</td>\n",
       "    </tr>\n",
       "    <tr>\n",
       "      <th>14</th>\n",
       "      <td>1995-08-03</td>\n",
       "      <td>0</td>\n",
       "      <td>1.073000</td>\n",
       "    </tr>\n",
       "    <tr>\n",
       "      <th>15</th>\n",
       "      <td>1995-08-04</td>\n",
       "      <td>0</td>\n",
       "      <td>1.073000</td>\n",
       "    </tr>\n",
       "    <tr>\n",
       "      <th>16</th>\n",
       "      <td>1995-08-05</td>\n",
       "      <td>0</td>\n",
       "      <td>2.000000</td>\n",
       "    </tr>\n",
       "    <tr>\n",
       "      <th>17</th>\n",
       "      <td>1995-08-06</td>\n",
       "      <td>0</td>\n",
       "      <td>3.000000</td>\n",
       "    </tr>\n",
       "    <tr>\n",
       "      <th>18</th>\n",
       "      <td>1995-08-07</td>\n",
       "      <td>0</td>\n",
       "      <td>3.000000</td>\n",
       "    </tr>\n",
       "    <tr>\n",
       "      <th>19</th>\n",
       "      <td>1995-08-08</td>\n",
       "      <td>0</td>\n",
       "      <td>3.000000</td>\n",
       "    </tr>\n",
       "    <tr>\n",
       "      <th>20</th>\n",
       "      <td>1995-08-09</td>\n",
       "      <td>0</td>\n",
       "      <td>10.000000</td>\n",
       "    </tr>\n",
       "    <tr>\n",
       "      <th>21</th>\n",
       "      <td>1995-08-10</td>\n",
       "      <td>0</td>\n",
       "      <td>18.000000</td>\n",
       "    </tr>\n",
       "    <tr>\n",
       "      <th>22</th>\n",
       "      <td>1995-08-11</td>\n",
       "      <td>0</td>\n",
       "      <td>12.000000</td>\n",
       "    </tr>\n",
       "    <tr>\n",
       "      <th>23</th>\n",
       "      <td>1995-08-12</td>\n",
       "      <td>0</td>\n",
       "      <td>30.000000</td>\n",
       "    </tr>\n",
       "    <tr>\n",
       "      <th>24</th>\n",
       "      <td>1995-08-13</td>\n",
       "      <td>0</td>\n",
       "      <td>35.000000</td>\n",
       "    </tr>\n",
       "    <tr>\n",
       "      <th>25</th>\n",
       "      <td>1995-08-14</td>\n",
       "      <td>0</td>\n",
       "      <td>17.000000</td>\n",
       "    </tr>\n",
       "    <tr>\n",
       "      <th>26</th>\n",
       "      <td>1995-08-15</td>\n",
       "      <td>0</td>\n",
       "      <td>1.074000</td>\n",
       "    </tr>\n",
       "    <tr>\n",
       "      <th>27</th>\n",
       "      <td>1995-08-16</td>\n",
       "      <td>0</td>\n",
       "      <td>1.074000</td>\n",
       "    </tr>\n",
       "    <tr>\n",
       "      <th>28</th>\n",
       "      <td>1995-08-17</td>\n",
       "      <td>0</td>\n",
       "      <td>1.000000</td>\n",
       "    </tr>\n",
       "    <tr>\n",
       "      <th>29</th>\n",
       "      <td>1995-08-18</td>\n",
       "      <td>0</td>\n",
       "      <td>1.075000</td>\n",
       "    </tr>\n",
       "    <tr>\n",
       "      <th>...</th>\n",
       "      <td>...</td>\n",
       "      <td>...</td>\n",
       "      <td>...</td>\n",
       "    </tr>\n",
       "    <tr>\n",
       "      <th>201786</th>\n",
       "      <td>2018-04-06</td>\n",
       "      <td>23</td>\n",
       "      <td>101.061224</td>\n",
       "    </tr>\n",
       "    <tr>\n",
       "      <th>201787</th>\n",
       "      <td>2018-04-07</td>\n",
       "      <td>23</td>\n",
       "      <td>115.247319</td>\n",
       "    </tr>\n",
       "    <tr>\n",
       "      <th>201788</th>\n",
       "      <td>2018-04-08</td>\n",
       "      <td>23</td>\n",
       "      <td>104.855346</td>\n",
       "    </tr>\n",
       "    <tr>\n",
       "      <th>201789</th>\n",
       "      <td>2018-04-09</td>\n",
       "      <td>23</td>\n",
       "      <td>96.150254</td>\n",
       "    </tr>\n",
       "    <tr>\n",
       "      <th>201790</th>\n",
       "      <td>2018-04-10</td>\n",
       "      <td>23</td>\n",
       "      <td>96.544901</td>\n",
       "    </tr>\n",
       "    <tr>\n",
       "      <th>201791</th>\n",
       "      <td>2018-04-11</td>\n",
       "      <td>23</td>\n",
       "      <td>95.951640</td>\n",
       "    </tr>\n",
       "    <tr>\n",
       "      <th>201792</th>\n",
       "      <td>2018-04-12</td>\n",
       "      <td>23</td>\n",
       "      <td>104.050235</td>\n",
       "    </tr>\n",
       "    <tr>\n",
       "      <th>201793</th>\n",
       "      <td>2018-04-13</td>\n",
       "      <td>23</td>\n",
       "      <td>115.019470</td>\n",
       "    </tr>\n",
       "    <tr>\n",
       "      <th>201794</th>\n",
       "      <td>2018-04-14</td>\n",
       "      <td>23</td>\n",
       "      <td>112.536146</td>\n",
       "    </tr>\n",
       "    <tr>\n",
       "      <th>201795</th>\n",
       "      <td>2018-04-15</td>\n",
       "      <td>23</td>\n",
       "      <td>102.413184</td>\n",
       "    </tr>\n",
       "    <tr>\n",
       "      <th>201796</th>\n",
       "      <td>2018-04-16</td>\n",
       "      <td>23</td>\n",
       "      <td>84.128662</td>\n",
       "    </tr>\n",
       "    <tr>\n",
       "      <th>201797</th>\n",
       "      <td>2018-04-17</td>\n",
       "      <td>23</td>\n",
       "      <td>82.310629</td>\n",
       "    </tr>\n",
       "    <tr>\n",
       "      <th>201798</th>\n",
       "      <td>2018-04-18</td>\n",
       "      <td>23</td>\n",
       "      <td>115.397910</td>\n",
       "    </tr>\n",
       "    <tr>\n",
       "      <th>201799</th>\n",
       "      <td>2018-04-19</td>\n",
       "      <td>23</td>\n",
       "      <td>130.148787</td>\n",
       "    </tr>\n",
       "    <tr>\n",
       "      <th>201800</th>\n",
       "      <td>2018-04-20</td>\n",
       "      <td>23</td>\n",
       "      <td>73.651514</td>\n",
       "    </tr>\n",
       "    <tr>\n",
       "      <th>201801</th>\n",
       "      <td>2018-04-21</td>\n",
       "      <td>23</td>\n",
       "      <td>73.040902</td>\n",
       "    </tr>\n",
       "    <tr>\n",
       "      <th>201802</th>\n",
       "      <td>2018-04-22</td>\n",
       "      <td>23</td>\n",
       "      <td>73.182921</td>\n",
       "    </tr>\n",
       "    <tr>\n",
       "      <th>201803</th>\n",
       "      <td>2018-04-23</td>\n",
       "      <td>23</td>\n",
       "      <td>117.952904</td>\n",
       "    </tr>\n",
       "    <tr>\n",
       "      <th>201804</th>\n",
       "      <td>2018-04-24</td>\n",
       "      <td>23</td>\n",
       "      <td>124.376789</td>\n",
       "    </tr>\n",
       "    <tr>\n",
       "      <th>201805</th>\n",
       "      <td>2018-04-25</td>\n",
       "      <td>23</td>\n",
       "      <td>140.515851</td>\n",
       "    </tr>\n",
       "    <tr>\n",
       "      <th>201806</th>\n",
       "      <td>2018-04-26</td>\n",
       "      <td>23</td>\n",
       "      <td>72.752131</td>\n",
       "    </tr>\n",
       "    <tr>\n",
       "      <th>201807</th>\n",
       "      <td>2018-04-27</td>\n",
       "      <td>23</td>\n",
       "      <td>71.669496</td>\n",
       "    </tr>\n",
       "    <tr>\n",
       "      <th>201808</th>\n",
       "      <td>2018-04-28</td>\n",
       "      <td>23</td>\n",
       "      <td>70.008969</td>\n",
       "    </tr>\n",
       "    <tr>\n",
       "      <th>201809</th>\n",
       "      <td>2018-04-29</td>\n",
       "      <td>23</td>\n",
       "      <td>70.012686</td>\n",
       "    </tr>\n",
       "    <tr>\n",
       "      <th>201810</th>\n",
       "      <td>2018-04-30</td>\n",
       "      <td>23</td>\n",
       "      <td>67.645951</td>\n",
       "    </tr>\n",
       "    <tr>\n",
       "      <th>201811</th>\n",
       "      <td>2018-05-01</td>\n",
       "      <td>23</td>\n",
       "      <td>64.229226</td>\n",
       "    </tr>\n",
       "    <tr>\n",
       "      <th>201812</th>\n",
       "      <td>2018-05-02</td>\n",
       "      <td>23</td>\n",
       "      <td>67.832816</td>\n",
       "    </tr>\n",
       "    <tr>\n",
       "      <th>201813</th>\n",
       "      <td>2018-05-03</td>\n",
       "      <td>23</td>\n",
       "      <td>63.710848</td>\n",
       "    </tr>\n",
       "    <tr>\n",
       "      <th>201814</th>\n",
       "      <td>2018-05-04</td>\n",
       "      <td>23</td>\n",
       "      <td>64.043453</td>\n",
       "    </tr>\n",
       "    <tr>\n",
       "      <th>201815</th>\n",
       "      <td>2018-05-05</td>\n",
       "      <td>23</td>\n",
       "      <td>75.242918</td>\n",
       "    </tr>\n",
       "  </tbody>\n",
       "</table>\n",
       "<p>201600 rows × 3 columns</p>\n",
       "</div>"
      ],
      "text/plain": [
       "             Fecha Hora      Precio\n",
       "0       1995-07-20    0         NaN\n",
       "1       1995-07-21    0    1.073000\n",
       "2       1995-07-22    0    1.073000\n",
       "3       1995-07-23    0    1.073000\n",
       "4       1995-07-24    0    1.000000\n",
       "5       1995-07-25    0    0.990000\n",
       "6       1995-07-26    0    0.500000\n",
       "7       1995-07-27    0    0.500000\n",
       "8       1995-07-28    0    0.000000\n",
       "9       1995-07-29    0    1.000000\n",
       "10      1995-07-30    0    1.072000\n",
       "11      1995-07-31    0    0.000000\n",
       "12      1995-08-01    0    0.000000\n",
       "13      1995-08-02    0    1.073000\n",
       "14      1995-08-03    0    1.073000\n",
       "15      1995-08-04    0    1.073000\n",
       "16      1995-08-05    0    2.000000\n",
       "17      1995-08-06    0    3.000000\n",
       "18      1995-08-07    0    3.000000\n",
       "19      1995-08-08    0    3.000000\n",
       "20      1995-08-09    0   10.000000\n",
       "21      1995-08-10    0   18.000000\n",
       "22      1995-08-11    0   12.000000\n",
       "23      1995-08-12    0   30.000000\n",
       "24      1995-08-13    0   35.000000\n",
       "25      1995-08-14    0   17.000000\n",
       "26      1995-08-15    0    1.074000\n",
       "27      1995-08-16    0    1.074000\n",
       "28      1995-08-17    0    1.000000\n",
       "29      1995-08-18    0    1.075000\n",
       "...            ...  ...         ...\n",
       "201786  2018-04-06   23  101.061224\n",
       "201787  2018-04-07   23  115.247319\n",
       "201788  2018-04-08   23  104.855346\n",
       "201789  2018-04-09   23   96.150254\n",
       "201790  2018-04-10   23   96.544901\n",
       "201791  2018-04-11   23   95.951640\n",
       "201792  2018-04-12   23  104.050235\n",
       "201793  2018-04-13   23  115.019470\n",
       "201794  2018-04-14   23  112.536146\n",
       "201795  2018-04-15   23  102.413184\n",
       "201796  2018-04-16   23   84.128662\n",
       "201797  2018-04-17   23   82.310629\n",
       "201798  2018-04-18   23  115.397910\n",
       "201799  2018-04-19   23  130.148787\n",
       "201800  2018-04-20   23   73.651514\n",
       "201801  2018-04-21   23   73.040902\n",
       "201802  2018-04-22   23   73.182921\n",
       "201803  2018-04-23   23  117.952904\n",
       "201804  2018-04-24   23  124.376789\n",
       "201805  2018-04-25   23  140.515851\n",
       "201806  2018-04-26   23   72.752131\n",
       "201807  2018-04-27   23   71.669496\n",
       "201808  2018-04-28   23   70.008969\n",
       "201809  2018-04-29   23   70.012686\n",
       "201810  2018-04-30   23   67.645951\n",
       "201811  2018-05-01   23   64.229226\n",
       "201812  2018-05-02   23   67.832816\n",
       "201813  2018-05-03   23   63.710848\n",
       "201814  2018-05-04   23   64.043453\n",
       "201815  2018-05-05   23   75.242918\n",
       "\n",
       "[201600 rows x 3 columns]"
      ]
     },
     "execution_count": 8,
     "metadata": {},
     "output_type": "execute_result"
    }
   ],
   "source": [
    "FechaNulos=dfsFinal[dfsFinal.Fecha.isnull()]   #Extrae la base donde la columna Fecha es nula\n",
    "FechaNulos.shape                               #Muestra el tamaño del dataframe\n",
    "FechaNulos.index                               #Muestra el número de las filas del dataframe principal en donde están ubicados los datos del dataframe anterior  \n",
    "dfsFinal.drop(dfsFinal[dfsFinal.Fecha.isnull()].index,inplace=True)\n",
    "dfsFinal"
   ]
  },
  {
   "cell_type": "markdown",
   "metadata": {},
   "source": [
    "# 2)"
   ]
  },
  {
   "cell_type": "code",
   "execution_count": 9,
   "metadata": {},
   "outputs": [
    {
     "data": {
      "text/plain": [
       "22"
      ]
     },
     "execution_count": 9,
     "metadata": {},
     "output_type": "execute_result"
    }
   ],
   "source": [
    "Faltantes = dfsFinal[dfsFinal['Precio'].isnull()|dfsFinal['Hora'].isnull()|dfsFinal['Fecha'].isnull()]\n",
    "Faltantes.shape[0]"
   ]
  },
  {
   "cell_type": "markdown",
   "metadata": {},
   "source": [
    "# 3)"
   ]
  },
  {
   "cell_type": "code",
   "execution_count": 10,
   "metadata": {},
   "outputs": [
    {
     "data": {
      "text/plain": [
       "1759"
      ]
     },
     "execution_count": 10,
     "metadata": {},
     "output_type": "execute_result"
    }
   ],
   "source": [
    "Registros_Duplicados=dfsFinal[dfsFinal.duplicated()]\n",
    "len(Registros_Duplicados)"
   ]
  },
  {
   "cell_type": "markdown",
   "metadata": {},
   "source": [
    "# 4)"
   ]
  },
  {
   "cell_type": "code",
   "execution_count": 11,
   "metadata": {},
   "outputs": [],
   "source": [
    "dfsCompleta_sin_NaN=dfsFinal.dropna()"
   ]
  },
  {
   "cell_type": "code",
   "execution_count": 12,
   "metadata": {},
   "outputs": [
    {
     "data": {
      "text/plain": [
       "199819"
      ]
     },
     "execution_count": 12,
     "metadata": {},
     "output_type": "execute_result"
    }
   ],
   "source": [
    "dfsCompleta=dfsCompleta_sin_NaN.drop_duplicates()\n",
    "len(dfsCompleta)"
   ]
  },
  {
   "cell_type": "markdown",
   "metadata": {},
   "source": [
    "# 5)"
   ]
  },
  {
   "cell_type": "code",
   "execution_count": 13,
   "metadata": {},
   "outputs": [
    {
     "data": {
      "image/png": "[encoded data removed]",
      "text/plain": [
       "<Figure size 432x288 with 1 Axes>"
      ]
     },
     "metadata": {
      "needs_background": "light"
     },
     "output_type": "display_data"
    }
   ],
   "source": [
    "Promedio_Diario=dfsCompleta.groupby(['Fecha'])['Precio'].mean().reset_index()\n",
    "Promedio_Diario.plot(x='Fecha',y='Precio',title='Precio Promedio Diario');"
   ]
  },
  {
   "cell_type": "markdown",
   "metadata": {},
   "source": [
    "# 6)"
   ]
  },
  {
   "cell_type": "code",
   "execution_count": 14,
   "metadata": {},
   "outputs": [
    {
     "name": "stderr",
     "output_type": "stream",
     "text": [
      "/usr/local/lib/python3.6/dist-packages/ipykernel_launcher.py:1: SettingWithCopyWarning: \n",
      "A value is trying to be set on a copy of a slice from a DataFrame.\n",
      "Try using .loc[row_indexer,col_indexer] = value instead\n",
      "\n",
      "See the caveats in the documentation: http://pandas.pydata.org/pandas-docs/stable/indexing.html#indexing-view-versus-copy\n",
      "  \"\"\"Entry point for launching an IPython kernel.\n",
      "/usr/local/lib/python3.6/dist-packages/ipykernel_launcher.py:3: SettingWithCopyWarning: \n",
      "A value is trying to be set on a copy of a slice from a DataFrame.\n",
      "Try using .loc[row_indexer,col_indexer] = value instead\n",
      "\n",
      "See the caveats in the documentation: http://pandas.pydata.org/pandas-docs/stable/indexing.html#indexing-view-versus-copy\n",
      "  This is separate from the ipykernel package so we can avoid doing imports until\n",
      "/usr/local/lib/python3.6/dist-packages/ipykernel_launcher.py:4: SettingWithCopyWarning: \n",
      "A value is trying to be set on a copy of a slice from a DataFrame.\n",
      "Try using .loc[row_indexer,col_indexer] = value instead\n",
      "\n",
      "See the caveats in the documentation: http://pandas.pydata.org/pandas-docs/stable/indexing.html#indexing-view-versus-copy\n",
      "  after removing the cwd from sys.path.\n",
      "/usr/local/lib/python3.6/dist-packages/ipykernel_launcher.py:5: SettingWithCopyWarning: \n",
      "A value is trying to be set on a copy of a slice from a DataFrame.\n",
      "Try using .loc[row_indexer,col_indexer] = value instead\n",
      "\n",
      "See the caveats in the documentation: http://pandas.pydata.org/pandas-docs/stable/indexing.html#indexing-view-versus-copy\n",
      "  \"\"\"\n"
     ]
    },
    {
     "data": {
      "image/png": "[encoded data removed]",
      "text/plain": [
       "<Figure size 432x288 with 1 Axes>"
      ]
     },
     "metadata": {
      "needs_background": "light"
     },
     "output_type": "display_data"
    }
   ],
   "source": [
    "dfsCompleta['Fecha']=pd.to_datetime(dfsCompleta['Fecha'])\n",
    "dfsCompleta1=dfsCompleta\n",
    "dfsCompleta1['Mes']=dfsCompleta1['Fecha'].dt.month.astype(str)\n",
    "dfsCompleta1['Año']=dfsCompleta1['Fecha'].dt.year.astype(str)\n",
    "dfsCompleta1['Año-Mes']=dfsCompleta1['Año'] + '-' + dfsCompleta1['Mes']\n",
    "Precio_Máximo_Mes=dfsCompleta.groupby(dfsCompleta1['Año-Mes'])['Precio'].max().reset_index()\n",
    "Precio_Máximo_Mes.plot(x='Año-Mes',y='Precio',title='Precio Máximo por Mes');"
   ]
  },
  {
   "cell_type": "markdown",
   "metadata": {},
   "source": [
    "# 7)"
   ]
  },
  {
   "cell_type": "code",
   "execution_count": 15,
   "metadata": {},
   "outputs": [
    {
     "data": {
      "image/png": "[encoded data removed]",
      "text/plain": [
       "<Figure size 432x288 with 1 Axes>"
      ]
     },
     "metadata": {
      "needs_background": "light"
     },
     "output_type": "display_data"
    }
   ],
   "source": [
    "Precio_Mínimo_Mes=dfsCompleta.groupby(dfsCompleta1['Año-Mes'])['Precio'].min().reset_index()\n",
    "Precio_Mínimo_Mes.plot(x='Año-Mes',y='Precio',title='Precio Mínimo por Mes');"
   ]
  },
  {
   "cell_type": "markdown",
   "metadata": {},
   "source": [
    "# 8)"
   ]
  },
  {
   "cell_type": "code",
   "execution_count": 16,
   "metadata": {},
   "outputs": [
    {
     "data": {
      "image/png": "[encoded data removed]",
      "text/plain": [
       "<Figure size 432x288 with 1 Axes>"
      ]
     },
     "metadata": {
      "needs_background": "light"
     },
     "output_type": "display_data"
    }
   ],
   "source": [
    "Precio_Promedio_Mes=dfsCompleta.groupby(dfsCompleta1['Año-Mes'])['Precio'].mean().reset_index()\n",
    "tabla_mean_max_mes=pd.DataFrame(columns=['Mes','Precio_Promedio_Mensual','Precio_Máximo_Mensual'])\n",
    "tabla_mean_max_mes['Mes']=Precio_Promedio_Mes['Año-Mes']\n",
    "tabla_mean_max_mes['Precio_Promedio_Mensual']=Precio_Promedio_Mes['Precio']\n",
    "tabla_mean_max_mes['Precio_Máximo_Mensual']=Precio_Máximo_Mes['Precio']\n",
    "plt.plot(tabla_mean_max_mes['Mes'], tabla_mean_max_mes['Precio_Promedio_Mensual'], tabla_mean_max_mes['Mes'], tabla_mean_max_mes['Precio_Máximo_Mensual'])\n",
    "plt.show()"
   ]
  },
  {
   "cell_type": "markdown",
   "metadata": {},
   "source": [
    "# 9)"
   ]
  },
  {
   "cell_type": "code",
   "execution_count": 17,
   "metadata": {},
   "outputs": [
    {
     "data": {
      "image/png": "[encoded data removed]",
      "text/plain": [
       "<Figure size 432x288 with 1 Axes>"
      ]
     },
     "metadata": {
      "needs_background": "light"
     },
     "output_type": "display_data"
    }
   ],
   "source": [
    "Base_Week = dfsCompleta.copy()\n",
    "Base_Week['Día de la semana'] = [a.weekday() for a in pd.to_datetime(Base_Week['Fecha'])]\n",
    "Precio_Máximo_Diario = Base_Week.groupby('Fecha')['Precio'].max()\n",
    "Precio_Máximo_Diario_Hora = pd.merge(Precio_Máximo_Diario, Base_Week, on=['Fecha','Precio'], how='inner')\n",
    "Precio_Máximo_Semana_Hora = Precio_Máximo_Diario_Hora[Precio_Máximo_Diario_Hora['Día de la semana'] < 5]\n",
    "Precio_Máximo_Semana_Hora = Precio_Máximo_Semana_Hora[['Fecha','Precio','Hora']]\n",
    "Precio_Máximo_Semana_Hora['Hora'] = Precio_Máximo_Semana_Hora['Hora'].astype(int)\n",
    "Precio_Máximo_Semana_Hora.hist(column='Hora', bins=24)\n",
    "plt.title('Horas de precio máximo en semana');"
   ]
  },
  {
   "cell_type": "markdown",
   "metadata": {},
   "source": [
    "# 10)"
   ]
  },
  {
   "cell_type": "code",
   "execution_count": 18,
   "metadata": {},
   "outputs": [
    {
     "data": {
      "image/png": "[encoded data removed]",
      "text/plain": [
       "<Figure size 432x288 with 1 Axes>"
      ]
     },
     "metadata": {
      "needs_background": "light"
     },
     "output_type": "display_data"
    }
   ],
   "source": [
    "Precio_Máximo_Sábado_Hora = Precio_Máximo_Diario_Hora[Precio_Máximo_Diario_Hora['Día de la semana'] == 5]\n",
    "Precio_Máximo_Sábado_Hora = Precio_Máximo_Sábado_Hora[['Fecha','Precio','Hora']]\n",
    "Precio_Máximo_Sábado_Hora['Hora'] = Precio_Máximo_Sábado_Hora['Hora'].astype(int)\n",
    "Precio_Máximo_Sábado_Hora.hist(column='Hora', bins=24)\n",
    "plt.title('Horas de precio máximo sábados');"
   ]
  },
  {
   "cell_type": "markdown",
   "metadata": {},
   "source": [
    "# 11)"
   ]
  },
  {
   "cell_type": "code",
   "execution_count": 19,
   "metadata": {},
   "outputs": [
    {
     "data": {
      "image/png": "[encoded data removed]",
      "text/plain": [
       "<Figure size 432x288 with 1 Axes>"
      ]
     },
     "metadata": {
      "needs_background": "light"
     },
     "output_type": "display_data"
    }
   ],
   "source": [
    "Precio_Máximo_Domingo_Hora = Precio_Máximo_Diario_Hora[Precio_Máximo_Diario_Hora['Día de la semana'] == 6]\n",
    "Precio_Máximo_Domingo_Hora = Precio_Máximo_Domingo_Hora[['Fecha','Precio','Hora']]\n",
    "Precio_Máximo_Domingo_Hora['Hora'] = Precio_Máximo_Domingo_Hora['Hora'].astype(int)\n",
    "Precio_Máximo_Domingo_Hora.hist(column='Hora', bins=24)\n",
    "plt.title('Horas de precio máximo domingos');"
   ]
  },
  {
   "cell_type": "markdown",
   "metadata": {},
   "source": [
    "# 12)"
   ]
  },
  {
   "cell_type": "code",
   "execution_count": 20,
   "metadata": {},
   "outputs": [
    {
     "data": {
      "text/html": [
       "<div>\n",
       "<style scoped>\n",
       "    .dataframe tbody tr th:only-of-type {\n",
       "        vertical-align: middle;\n",
       "    }\n",
       "\n",
       "    .dataframe tbody tr th {\n",
       "        vertical-align: top;\n",
       "    }\n",
       "\n",
       "    .dataframe thead th {\n",
       "        text-align: right;\n",
       "    }\n",
       "</style>\n",
       "<table border=\"1\" class=\"dataframe\">\n",
       "  <thead>\n",
       "    <tr style=\"text-align: right;\">\n",
       "      <th></th>\n",
       "      <th>Fecha</th>\n",
       "      <th>Precio</th>\n",
       "    </tr>\n",
       "  </thead>\n",
       "  <tbody>\n",
       "    <tr>\n",
       "      <th>0</th>\n",
       "      <td>1995-07-28</td>\n",
       "      <td>0.000000</td>\n",
       "    </tr>\n",
       "    <tr>\n",
       "      <th>1</th>\n",
       "      <td>1995-07-31</td>\n",
       "      <td>0.000000</td>\n",
       "    </tr>\n",
       "    <tr>\n",
       "      <th>2</th>\n",
       "      <td>1995-08-01</td>\n",
       "      <td>0.000000</td>\n",
       "    </tr>\n",
       "    <tr>\n",
       "      <th>3</th>\n",
       "      <td>1995-10-13</td>\n",
       "      <td>0.000000</td>\n",
       "    </tr>\n",
       "    <tr>\n",
       "      <th>4</th>\n",
       "      <td>1995-07-28</td>\n",
       "      <td>0.000000</td>\n",
       "    </tr>\n",
       "    <tr>\n",
       "      <th>5</th>\n",
       "      <td>1995-07-31</td>\n",
       "      <td>0.000000</td>\n",
       "    </tr>\n",
       "    <tr>\n",
       "      <th>6</th>\n",
       "      <td>1995-08-01</td>\n",
       "      <td>0.000000</td>\n",
       "    </tr>\n",
       "    <tr>\n",
       "      <th>7</th>\n",
       "      <td>1995-10-13</td>\n",
       "      <td>0.000000</td>\n",
       "    </tr>\n",
       "    <tr>\n",
       "      <th>8</th>\n",
       "      <td>1995-07-28</td>\n",
       "      <td>0.000000</td>\n",
       "    </tr>\n",
       "    <tr>\n",
       "      <th>9</th>\n",
       "      <td>1995-07-29</td>\n",
       "      <td>0.000000</td>\n",
       "    </tr>\n",
       "    <tr>\n",
       "      <th>10</th>\n",
       "      <td>1995-07-30</td>\n",
       "      <td>0.000000</td>\n",
       "    </tr>\n",
       "    <tr>\n",
       "      <th>11</th>\n",
       "      <td>1995-07-31</td>\n",
       "      <td>0.000000</td>\n",
       "    </tr>\n",
       "    <tr>\n",
       "      <th>12</th>\n",
       "      <td>1995-08-01</td>\n",
       "      <td>0.000000</td>\n",
       "    </tr>\n",
       "    <tr>\n",
       "      <th>13</th>\n",
       "      <td>1995-10-13</td>\n",
       "      <td>0.000000</td>\n",
       "    </tr>\n",
       "    <tr>\n",
       "      <th>14</th>\n",
       "      <td>1995-07-28</td>\n",
       "      <td>0.000000</td>\n",
       "    </tr>\n",
       "    <tr>\n",
       "      <th>15</th>\n",
       "      <td>1995-07-29</td>\n",
       "      <td>0.000000</td>\n",
       "    </tr>\n",
       "    <tr>\n",
       "      <th>16</th>\n",
       "      <td>1995-07-30</td>\n",
       "      <td>0.000000</td>\n",
       "    </tr>\n",
       "    <tr>\n",
       "      <th>17</th>\n",
       "      <td>1995-07-31</td>\n",
       "      <td>0.000000</td>\n",
       "    </tr>\n",
       "    <tr>\n",
       "      <th>18</th>\n",
       "      <td>1995-08-01</td>\n",
       "      <td>0.000000</td>\n",
       "    </tr>\n",
       "    <tr>\n",
       "      <th>19</th>\n",
       "      <td>1995-10-13</td>\n",
       "      <td>0.000000</td>\n",
       "    </tr>\n",
       "    <tr>\n",
       "      <th>20</th>\n",
       "      <td>1995-07-28</td>\n",
       "      <td>0.000000</td>\n",
       "    </tr>\n",
       "    <tr>\n",
       "      <th>21</th>\n",
       "      <td>1995-07-30</td>\n",
       "      <td>0.000000</td>\n",
       "    </tr>\n",
       "    <tr>\n",
       "      <th>22</th>\n",
       "      <td>1995-07-31</td>\n",
       "      <td>0.000000</td>\n",
       "    </tr>\n",
       "    <tr>\n",
       "      <th>23</th>\n",
       "      <td>1995-08-01</td>\n",
       "      <td>0.000000</td>\n",
       "    </tr>\n",
       "    <tr>\n",
       "      <th>24</th>\n",
       "      <td>1995-07-29</td>\n",
       "      <td>0.000000</td>\n",
       "    </tr>\n",
       "    <tr>\n",
       "      <th>25</th>\n",
       "      <td>1995-07-30</td>\n",
       "      <td>0.000000</td>\n",
       "    </tr>\n",
       "    <tr>\n",
       "      <th>26</th>\n",
       "      <td>1995-07-31</td>\n",
       "      <td>0.000000</td>\n",
       "    </tr>\n",
       "    <tr>\n",
       "      <th>27</th>\n",
       "      <td>1995-08-01</td>\n",
       "      <td>0.000000</td>\n",
       "    </tr>\n",
       "    <tr>\n",
       "      <th>28</th>\n",
       "      <td>1995-07-31</td>\n",
       "      <td>0.000000</td>\n",
       "    </tr>\n",
       "    <tr>\n",
       "      <th>29</th>\n",
       "      <td>1995-07-31</td>\n",
       "      <td>0.000000</td>\n",
       "    </tr>\n",
       "    <tr>\n",
       "      <th>...</th>\n",
       "      <td>...</td>\n",
       "      <td>...</td>\n",
       "    </tr>\n",
       "    <tr>\n",
       "      <th>383</th>\n",
       "      <td>2016-12-09</td>\n",
       "      <td>61.100689</td>\n",
       "    </tr>\n",
       "    <tr>\n",
       "      <th>384</th>\n",
       "      <td>2016-12-09</td>\n",
       "      <td>61.100689</td>\n",
       "    </tr>\n",
       "    <tr>\n",
       "      <th>385</th>\n",
       "      <td>2016-12-09</td>\n",
       "      <td>61.100689</td>\n",
       "    </tr>\n",
       "    <tr>\n",
       "      <th>386</th>\n",
       "      <td>2016-12-09</td>\n",
       "      <td>61.100689</td>\n",
       "    </tr>\n",
       "    <tr>\n",
       "      <th>387</th>\n",
       "      <td>2016-12-09</td>\n",
       "      <td>61.100689</td>\n",
       "    </tr>\n",
       "    <tr>\n",
       "      <th>388</th>\n",
       "      <td>2016-12-09</td>\n",
       "      <td>61.100689</td>\n",
       "    </tr>\n",
       "    <tr>\n",
       "      <th>389</th>\n",
       "      <td>2016-12-09</td>\n",
       "      <td>61.100689</td>\n",
       "    </tr>\n",
       "    <tr>\n",
       "      <th>390</th>\n",
       "      <td>2016-12-09</td>\n",
       "      <td>61.100689</td>\n",
       "    </tr>\n",
       "    <tr>\n",
       "      <th>391</th>\n",
       "      <td>2016-12-09</td>\n",
       "      <td>61.100689</td>\n",
       "    </tr>\n",
       "    <tr>\n",
       "      <th>392</th>\n",
       "      <td>2016-12-09</td>\n",
       "      <td>61.100689</td>\n",
       "    </tr>\n",
       "    <tr>\n",
       "      <th>393</th>\n",
       "      <td>2016-12-09</td>\n",
       "      <td>61.100689</td>\n",
       "    </tr>\n",
       "    <tr>\n",
       "      <th>394</th>\n",
       "      <td>2016-12-09</td>\n",
       "      <td>61.100689</td>\n",
       "    </tr>\n",
       "    <tr>\n",
       "      <th>395</th>\n",
       "      <td>2017-03-28</td>\n",
       "      <td>60.312095</td>\n",
       "    </tr>\n",
       "    <tr>\n",
       "      <th>396</th>\n",
       "      <td>2017-03-28</td>\n",
       "      <td>60.312095</td>\n",
       "    </tr>\n",
       "    <tr>\n",
       "      <th>397</th>\n",
       "      <td>2017-03-28</td>\n",
       "      <td>60.312095</td>\n",
       "    </tr>\n",
       "    <tr>\n",
       "      <th>398</th>\n",
       "      <td>2017-03-28</td>\n",
       "      <td>60.312095</td>\n",
       "    </tr>\n",
       "    <tr>\n",
       "      <th>399</th>\n",
       "      <td>2017-03-28</td>\n",
       "      <td>60.312095</td>\n",
       "    </tr>\n",
       "    <tr>\n",
       "      <th>400</th>\n",
       "      <td>2017-03-28</td>\n",
       "      <td>60.312095</td>\n",
       "    </tr>\n",
       "    <tr>\n",
       "      <th>401</th>\n",
       "      <td>2017-03-28</td>\n",
       "      <td>60.312095</td>\n",
       "    </tr>\n",
       "    <tr>\n",
       "      <th>402</th>\n",
       "      <td>2017-03-28</td>\n",
       "      <td>60.312095</td>\n",
       "    </tr>\n",
       "    <tr>\n",
       "      <th>403</th>\n",
       "      <td>2017-03-28</td>\n",
       "      <td>60.312095</td>\n",
       "    </tr>\n",
       "    <tr>\n",
       "      <th>404</th>\n",
       "      <td>2017-03-28</td>\n",
       "      <td>60.312095</td>\n",
       "    </tr>\n",
       "    <tr>\n",
       "      <th>405</th>\n",
       "      <td>2017-03-28</td>\n",
       "      <td>60.312095</td>\n",
       "    </tr>\n",
       "    <tr>\n",
       "      <th>406</th>\n",
       "      <td>2017-03-28</td>\n",
       "      <td>60.312095</td>\n",
       "    </tr>\n",
       "    <tr>\n",
       "      <th>407</th>\n",
       "      <td>2017-03-28</td>\n",
       "      <td>60.312095</td>\n",
       "    </tr>\n",
       "    <tr>\n",
       "      <th>408</th>\n",
       "      <td>2017-03-28</td>\n",
       "      <td>60.312095</td>\n",
       "    </tr>\n",
       "    <tr>\n",
       "      <th>409</th>\n",
       "      <td>2017-03-28</td>\n",
       "      <td>60.312095</td>\n",
       "    </tr>\n",
       "    <tr>\n",
       "      <th>410</th>\n",
       "      <td>2017-03-28</td>\n",
       "      <td>60.312095</td>\n",
       "    </tr>\n",
       "    <tr>\n",
       "      <th>411</th>\n",
       "      <td>2017-03-28</td>\n",
       "      <td>60.312095</td>\n",
       "    </tr>\n",
       "    <tr>\n",
       "      <th>412</th>\n",
       "      <td>2018-04-06</td>\n",
       "      <td>61.457224</td>\n",
       "    </tr>\n",
       "  </tbody>\n",
       "</table>\n",
       "<p>413 rows × 2 columns</p>\n",
       "</div>"
      ],
      "text/plain": [
       "         Fecha     Precio\n",
       "0   1995-07-28   0.000000\n",
       "1   1995-07-31   0.000000\n",
       "2   1995-08-01   0.000000\n",
       "3   1995-10-13   0.000000\n",
       "4   1995-07-28   0.000000\n",
       "5   1995-07-31   0.000000\n",
       "6   1995-08-01   0.000000\n",
       "7   1995-10-13   0.000000\n",
       "8   1995-07-28   0.000000\n",
       "9   1995-07-29   0.000000\n",
       "10  1995-07-30   0.000000\n",
       "11  1995-07-31   0.000000\n",
       "12  1995-08-01   0.000000\n",
       "13  1995-10-13   0.000000\n",
       "14  1995-07-28   0.000000\n",
       "15  1995-07-29   0.000000\n",
       "16  1995-07-30   0.000000\n",
       "17  1995-07-31   0.000000\n",
       "18  1995-08-01   0.000000\n",
       "19  1995-10-13   0.000000\n",
       "20  1995-07-28   0.000000\n",
       "21  1995-07-30   0.000000\n",
       "22  1995-07-31   0.000000\n",
       "23  1995-08-01   0.000000\n",
       "24  1995-07-29   0.000000\n",
       "25  1995-07-30   0.000000\n",
       "26  1995-07-31   0.000000\n",
       "27  1995-08-01   0.000000\n",
       "28  1995-07-31   0.000000\n",
       "29  1995-07-31   0.000000\n",
       "..         ...        ...\n",
       "383 2016-12-09  61.100689\n",
       "384 2016-12-09  61.100689\n",
       "385 2016-12-09  61.100689\n",
       "386 2016-12-09  61.100689\n",
       "387 2016-12-09  61.100689\n",
       "388 2016-12-09  61.100689\n",
       "389 2016-12-09  61.100689\n",
       "390 2016-12-09  61.100689\n",
       "391 2016-12-09  61.100689\n",
       "392 2016-12-09  61.100689\n",
       "393 2016-12-09  61.100689\n",
       "394 2016-12-09  61.100689\n",
       "395 2017-03-28  60.312095\n",
       "396 2017-03-28  60.312095\n",
       "397 2017-03-28  60.312095\n",
       "398 2017-03-28  60.312095\n",
       "399 2017-03-28  60.312095\n",
       "400 2017-03-28  60.312095\n",
       "401 2017-03-28  60.312095\n",
       "402 2017-03-28  60.312095\n",
       "403 2017-03-28  60.312095\n",
       "404 2017-03-28  60.312095\n",
       "405 2017-03-28  60.312095\n",
       "406 2017-03-28  60.312095\n",
       "407 2017-03-28  60.312095\n",
       "408 2017-03-28  60.312095\n",
       "409 2017-03-28  60.312095\n",
       "410 2017-03-28  60.312095\n",
       "411 2017-03-28  60.312095\n",
       "412 2018-04-06  61.457224\n",
       "\n",
       "[413 rows x 2 columns]"
      ]
     },
     "execution_count": 20,
     "metadata": {},
     "output_type": "execute_result"
    }
   ],
   "source": [
    "Base_Completa = dfsCompleta.copy()\n",
    "Precio_Máximo_Año = Base_Completa.groupby('Año')['Precio'].min()\n",
    "Precio_Máximo_Año_Fecha = pd.merge(Precio_Máximo_Año, Base_Completa, on=['Año','Precio'], how='inner')\n",
    "Precio_Máximo_Año_Fecha = Precio_Máximo_Año_Fecha[['Fecha','Precio']]\n",
    "Precio_Máximo_Año_Fecha"
   ]
  },
  {
   "cell_type": "markdown",
   "metadata": {},
   "source": [
    "# 13)"
   ]
  },
  {
   "cell_type": "code",
   "execution_count": 21,
   "metadata": {},
   "outputs": [
    {
     "data": {
      "image/png": "[encoded data removed]",
      "text/plain": [
       "<Figure size 432x288 with 1 Axes>"
      ]
     },
     "metadata": {
      "needs_background": "light"
     },
     "output_type": "display_data"
    }
   ],
   "source": [
    "Base_Completa1 = dfsCompleta.copy()\n",
    "Base_Completa1['Fecha'] = pd.to_datetime(Base_Completa1['Fecha'])\n",
    "Promedio_Mes = Base_Completa1.groupby(['Año','Mes'])['Precio'].mean()\n",
    "Promedio_Día = Base_Completa1.groupby(['Fecha'])['Precio'].mean()\n",
    "Promedio_Mes_Día = pd.merge(Base_Completa1,Promedio_Mes, on=['Año','Mes'], how='inner',suffixes=('', '_Mes'))\n",
    "Promedio_Mes_Día = pd.merge(Promedio_Mes_Día,Promedio_Día, on=['Fecha'], how='inner',suffixes=('', '_Día'))\n",
    "Promedio_Mes_Día = Promedio_Mes_Día[['Fecha', 'Precio_Mes', 'Precio_Día' ]]\n",
    "Promedio_Mes_Día = Promedio_Mes_Día.set_index('Fecha')\n",
    "plot = Promedio_Mes_Día[['Precio_Día','Precio_Mes']].plot()"
   ]
  }
 ],
 "metadata": {
  "anaconda-cloud": {},
  "kernel_info": {
   "name": "python3"
  },
  "kernelspec": {
   "display_name": "Python 3",
   "language": "python",
   "name": "python3"
  },
  "language_info": {
   "codemirror_mode": {
    "name": "ipython",
    "version": 3
   },
   "file_extension": ".py",
   "mimetype": "text/x-python",
   "name": "python",
   "nbconvert_exporter": "python",
   "pygments_lexer": "ipython3",
   "version": "3.6.7"
  },
  "nteract": {
   "version": "0.7.1"
  }
 },
 "nbformat": 4,
 "nbformat_minor": 2
}
